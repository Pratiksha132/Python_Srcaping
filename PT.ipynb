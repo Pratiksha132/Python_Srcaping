{
 "cells": [
  {
   "cell_type": "code",
   "execution_count": 9,
   "metadata": {},
   "outputs": [
    {
     "name": "stdout",
     "output_type": "stream",
     "text": [
      "Project details have been written to projects_details.csv\n"
     ]
    }
   ],
   "source": [
    "import requests\n",
    "from bs4 import BeautifulSoup\n",
    "import csv\n",
    "import warnings\n",
    "\n",
    "\n",
    "warnings.filterwarnings('ignore', message='Unverified HTTPS request')\n",
    "\n",
    "def get_project_details(project_url, headers):\n",
    "    response = requests.get(project_url, headers=headers, verify=False)\n",
    "    soup = BeautifulSoup(response.content, 'html.parser')\n",
    "\n",
    "    details = {}\n",
    "\n",
    "\n",
    "    details['GSTIN No'] = soup.find(text='GSTIN No').find_next('td').text.strip()\n",
    "    details['PAN No'] = soup.find(text='PAN No').find_next('td').text.strip()\n",
    "    details['Name'] = soup.find(text='Promoter Name').find_next('td').text.strip()\n",
    "    details['Permanent Address'] = soup.find(text='Address').find_next('td').text.strip()\n",
    "\n",
    "    return details\n",
    "\n",
    "def scrape_projects(url):\n",
    "    headers = {\n",
    "        'User-Agent': 'Mozilla/5.0 (Windows NT 10.0; Win64; x64) AppleWebKit/537.36 (KHTML, like Gecko) Chrome/91.0.4472.124 Safari/537.36'\n",
    "    }\n",
    "\n",
    "    response = requests.get(url, headers=headers, verify=False)\n",
    "    soup = BeautifulSoup(response.content, 'html.parser')\n",
    "\n",
    "    projects = []\n",
    "\n",
    "\n",
    "    project_links = soup.select('a[href*=\"RERAPROJECTID\"]')[:6]\n",
    "\n",
    "    for link in project_links:\n",
    "        project_url = 'https://hprera.nic.in' + link.get('href')\n",
    "        project_details = get_project_details(project_url, headers)\n",
    "        projects.append(project_details)\n",
    "\n",
    "    return projects\n",
    "\n",
    "\n",
    "url = 'https://hprera.nic.in/PublicDashboard'\n",
    "projects = scrape_projects(url)\n",
    "\n",
    "\n",
    "csv_file = 'projects_details.csv'\n",
    "\n",
    "\n",
    "with open(csv_file, mode='w', newline='', encoding='utf-8') as file:\n",
    "    writer = csv.DictWriter(file, fieldnames=['GSTIN No', 'PAN No', 'Name', 'Permanent Address'])\n",
    "    writer.writeheader()\n",
    "    for project in projects:\n",
    "        writer.writerow(project)\n",
    "\n",
    "print(f\"Project details have been written to {csv_file}\")\n",
    "\n",
    "\n",
    "for i, project in enumerate(projects):\n",
    "    print(f\"Project {i+1}:\")\n",
    "    for key, value in project.items():\n",
    "        print(f\"{key}: {value}\")\n",
    "    print()\n"
   ]
  },
  {
   "cell_type": "code",
   "execution_count": null,
   "metadata": {},
   "outputs": [],
   "source": []
  }
 ],
 "metadata": {
  "kernelspec": {
   "display_name": "Python 3",
   "language": "python",
   "name": "python3"
  },
  "language_info": {
   "codemirror_mode": {
    "name": "ipython",
    "version": 3
   },
   "file_extension": ".py",
   "mimetype": "text/x-python",
   "name": "python",
   "nbconvert_exporter": "python",
   "pygments_lexer": "ipython3",
   "version": "3.10.11"
  }
 },
 "nbformat": 4,
 "nbformat_minor": 2
}
